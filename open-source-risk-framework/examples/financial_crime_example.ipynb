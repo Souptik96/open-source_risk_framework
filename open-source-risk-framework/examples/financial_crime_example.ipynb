{
 "cells": [
  {
   "cell_type": "markdown",
   "metadata": {},
   "source": [
    "# Financial Crime Detection Demo\n",
    "## Open-Source Risk Framework\n",
    "\n",
    "![Risk Framework Logo](https://via.placeholder.com/150x50?text=Risk+Framework)\n",
    "\n",
    "This notebook demonstrates:\n",
    "1. Transaction data loading and preprocessing\n",
    "2. Anomaly detection using Isolation Forest\n",
    "3. Risk reporting and MCP documentation"
   ]
  },
  {
   "cell_type": "markdown",
   "metadata": {},
   "source": [
    "## 1. Setup Environment"
   ]
  },
  {
   "cell_type": "code",
   "execution_count": null,
   "metadata": {},
   "outputs": [],
   "source": [
    "import pandas as pd\n",
    "import numpy as np\n",
    "import matplotlib.pyplot as plt\n",
    "from pathlib import Path\n",
    "import yaml\n",
    "\n",
    "# Framework imports\n",
    "from risk_framework.models.fincrime_aml_kyc.isolation_forest import IsolationForestRiskDetector\n",
    "from risk_framework.reporting.report_generator import RiskReportGenerator\n",
    "from risk_framework.mcp.validate_mcp import MCPValidator\n",
    "\n",
    "%matplotlib inline\n",
    "plt.style.use('ggplot')\n",
    "\n",
    "# Configuration\n",
    "DATA_PATH = Path(\"../data/sample_transactions.csv\")\n",
    "REPORT_DIR = Path(\"../reports\")\n",
    "MODEL_DIR = Path(\"../models\")"
   ]
  },
  {
   "cell_type": "markdown",
   "metadata": {},
   "source": [
    "## 2. Load and Inspect Data"
   ]
  },
  {
   "cell_type": "code",
   "execution_count": null,
   "metadata": {},
   "outputs": [],
   "source": [
    "transactions = pd.read_csv(DATA_PATH, parse_dates=['transaction_time'])\n",
    "\n",
    "print(f\"Data shape: {transactions.shape}\")\n",
    "print(\"\\nSample data:\")\n",
    "display(transactions.head(3))\n",
    "\n",
    "print(\"\\nSummary statistics:\")\n",
    "display(transactions.describe())"
   ]
  },
  {
   "cell_type": "markdown",
   "metadata": {},
   "source": [
    "## 3. Feature Engineering"
   ]
  },
  {
   "cell_type": "code",
   "execution_count": null,
   "metadata": {},
   "outputs": [],
   "source": [
    "# Select and transform features\n",
    "features = transactions[[\n",
    "    'amount',\n",
    "    'duration',\n",
    "    'customer_age',\n",
    "    'transaction_hour'\n",
    "]].copy()\n",
    "\n",
    "# Log transform monetary values\n",
    "features['amount_log'] = np.log1p(features['amount'])\n",
    "\n",
    "# Normalize temporal features\n",
    "features['hour_sin'] = np.sin(2 * np.pi * features['transaction_hour']/24)\n",
    "features['hour_cos'] = np.cos(2 * np.pi * features['transaction_hour']/24)\n",
    "\n",
    "final_features = features.drop(['amount', 'transaction_hour'], axis=1)\n",
    "\n",
    "print(\"Final feature set:\")\n",
    "display(final_features.head())"
   ]
  },
  {
   "cell_type": "markdown",
   "metadata": {},
   "source": [
    "## 4. Anomaly Detection"
   ]
  },
  {
   "cell_type": "code",
   "execution_count": null,
   "metadata": {},
   "outputs": [],
   "source": [
    "# Initialize and train model\n",
    "model = IsolationForestRiskDetector(\n",
    "    features=final_features.columns.tolist(),\n",
    "    contamination=0.01,\n",
    "    risk_threshold=-0.5,\n",
    "    model_dir=MODEL_DIR\n",
    ")\n",
    "\n",
    "model.fit(final_features, save_model=True)\n",
    "\n",
    "# Generate predictions\n",
    "results = model.predict(transactions)\n",
    "risky_txns = results[results['is_risk'] == 1]\n",
    "\n",
    "print(f\"\\nDetected {len(risky_txns):,} risky transactions ({len(risky_txns)/len(results):.2%})\")\n",
    "display(risky_txns.head())"
   ]
  },
  {
   "cell_type": "markdown",
   "metadata": {},
   "source": [
    "## 5. Visualization"
   ]
  },
  {
   "cell_type": "code",
   "execution_count": null,
   "metadata": {},
   "outputs": [],
   "source": [
    "fig, (ax1, ax2) = plt.subplots(1, 2, figsize=(15, 5))\n",
    "\n",
    "# Score distribution\n",
    "ax1.hist(results['risk_score'], bins=50, alpha=0.7)\n",
    "ax1.axvline(x=500, color='r', linestyle='--', label='Risk Threshold')\n",
    "ax1.set_title('Risk Score Distribution')\n",
    "ax1.set_xlabel('Score')\n",
    "ax1.set_ylabel('Count')\n",
    "ax1.legend()\n",
    "\n",
    "# Feature importance\n",
    "model.plot_feature_importance(top_n=5, ax=ax2)\n",
    "ax2.set_title('Top Risk Drivers')\n",
    "\n",
    "plt.tight_layout()\n",
    "plt.show()"
   ]
  },
  {
   "cell_type": "markdown",
   "metadata": {},
   "source": [
    "## 6. Generate Reports"
   ]
  },
  {
   "cell_type": "code",
   "execution_count": null,
   "metadata": {},
   "outputs": [],
   "source": [
    "# Prepare report data\n",
    "report_data = risky_txns[[\n",
    "    'transaction_id',\n",
    "    'amount',\n",
    "    'customer_id',\n",
    "    'risk_score',\n",
    "    'risk_severity'\n",
    "]].sort_values('risk_score', ascending=False)\n",
    "\n",
    "metrics = {\n",
    "    'Total Transactions': len(results),\n",
    "    'Flagged Transactions': len(risky_txns),\n",
    "    'Detection Rate': f\"{len(risky_txns)/len(results):.2%}\",\n",
    "    'Mean Amount (Flagged)': f\"${risky_txns['amount'].mean():,.2f}\",\n",
    "    'Max Risk Score': risky_txns['risk_score'].max()\n",
    "}\n",
    "\n",
    "# Generate HTML report\n",
    "REPORT_DIR.mkdir(exist_ok=True)\n",
    "reporter = RiskReportGenerator(output_dir=REPORT_DIR)\n",
    "report_path = reporter.generate_html_report(\n",
    "    title=\"Financial Crime Alert Report\",\n",
    "    summary=metrics,\n",
    "    data=report_data,\n",
    "    filename=\"fraud_detection_report\"\n",
    ")\n",
    "\n",
    "print(f\"Report generated: {report_path}\")"
   ]
  },
  {
   "cell_type": "markdown",
   "metadata": {},
   "source": [
    "## 7. Model Documentation (MCP)"
   ]
  },
  {
   "cell_type": "code",
   "execution_count": null,
   "metadata": {},
   "outputs": [],
   "source": [
    "mcp_content = f\"\"\"\n",
    "# Model Control Policy\n",
    "model:\n",
    "  name: \"isolation_forest_fraud_detector\"\n",
    "  version: \"1.0.0\"\n",
    "  type: \"unsupervised_anomaly_detection\"\n",
    "  owner: \"Financial Crime Team\"\n",
    "  \n",
    "training:\n",
    "  features: {final_features.columns.tolist()}\n",
    "  contamination: 0.01\n",
    "  risk_threshold: -0.5\n",
    "  training_date: \"{pd.Timestamp.now().date().isoformat()}\"\n",
    "  \n",
    "monitoring:\n",
    "  metrics:\n",
    "    - \"feature_drift\"\n",
    "    - \"risk_score_distribution\"\n",
    "    - \"alert_volume\"\n",
    "  frequency: \"daily\"\n",
    "  \n",
    "validation:\n",
    "  last_validated: \"\"\n",
    "  validation_metrics:\n",
    "    precision: \"TBD\"\n",
    "    recall: \"TBD\"\n",
    "\n",
    "approvals:\n",
    "  - role: \"Model Owner\"\n",
    "    name: \"\"\n",
    "    date: \"\"\n",
    "\"\"\"\n",
    "\n",
    "# Save and validate\n",
    "mcp_path = Path(\"../mcp/fraud_detector_mcp.yaml\")\n",
    "mcp_path.parent.mkdir(exist_ok=True)\n",
    "\n",
    "with open(mcp_path, 'w') as f:\n",
    "    f.write(mcp_content)\n",
    "\n",
    "print(f\"MCP saved to: {mcp_path}\\n\")\n",
    "print(mcp_content)"
   ]
  },
  {
   "cell_type": "markdown",
   "metadata": {},
   "source": [
    "## Next Steps\n",
    "\n",
    "1. Review the generated report: `reports/fraud_detection_report.html`\n",
    "2. Examine model outputs in `results` DataFrame\n",
    "3. Complete the MCP validation section\n",
    "4. Schedule monitoring jobs"
   ]
  }
 ],
 "metadata": {
  "kernelspec": {
   "display_name": "risk_venv",
   "language": "python",
   "name": "python3"
  },
  "language_info": {
   "codemirror_mode": {
    "name": "ipython",
    "version": 3
   },
   "file_extension": ".py",
   "mimetype": "text/x-python",
   "name": "python",
   "nbconvert_exporter": "python",
   "pygments_lexer": "ipython3",
   "version": "3.9.0"
  }
 },
 "nbformat": 4,
 "nbformat_minor": 2
}
