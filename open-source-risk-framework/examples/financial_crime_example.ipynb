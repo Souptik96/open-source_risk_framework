Import modules
import pandas as pd
import numpy as np
import matplotlib.pyplot as plt
from pathlib import Path
import yaml

# Framework imports
from risk_framework.models.fincrime_aml_kyc.isolation_forest import IsolationForestRiskDetector
from risk_framework.reporting.report_generator import RiskReportGenerator
from risk_framework.mcp.validate_mcp import MCPValidator

%matplotlib inline
plt.style.use('ggplot')

# Load sample transaction data
data_path = Path("data/sample_transactions.csv")
transactions = pd.read_csv(data_path, parse_dates=['transaction_time'])

# Preview
print(f"Loaded {len(transactions):,} transactions")
transactions.head(3)

# Data Pre-Processing
# Select numeric features
features = ['amount', 'duration', 'customer_age']
X = transactions[features].copy()

# Handle missing values
X.fillna(X.median(), inplace=True)

# Log-transform amount
X['amount_log'] = np.log1p(X['amount'])
X = X.drop('amount', axis=1)

X.head()

# Train Anomaly Detection Model
# Initialize and train model
model = IsolationForestRiskDetector(
    features=X.columns.tolist(),
    contamination=0.01,  # Expected fraud rate
    risk_threshold=-0.5
)

model.fit(X, save_model=True)

# Generate predictions
results = model.predict(transactions)
risky_txns = results[results['is_risk'] == 1]

print(f"Detected {len(risky_txns):,} risky transactions")
risky_txns.head()

# Visualize Results
# Plot score distribution
plt.figure(figsize=(10, 6))
plt.hist(results['risk_score'], bins=50, alpha=0.7)
plt.axvline(x=500, color='r', linestyle='--', label='Risk Threshold')
plt.title('Transaction Risk Score Distribution')
plt.xlabel('Risk Score (0-1000)')
plt.ylabel('Count')
plt.legend()
plt.show()

# Top risk factors
model.plot_feature_importance(top_n=5)

# Generate Risk report:
# Prepare report content
report_data = risky_txns[[
    'transaction_id', 'amount', 'risk_score', 'risk_severity'
]].sort_values('risk_score', ascending=False)

metrics = {
    'Total Transactions': len(results),
    'High Risk Transactions': len(risky_txns),
    'Detection Rate': f"{len(risky_txns)/len(results):.2%}",
    'Mean Risk Score': results['risk_score'].mean().round(2)
}

# Generate report
reporter = RiskReportGenerator()
report_path = reporter.generate_html_report(
    title="Financial Crime Alert Report",
    summary=metrics,
    data=report_data,
    filename="fraud_detection_report"
)

print(f"Report generated: {report_path}")

# MCP Compliance Documentation
# Model metadata for MCP
mcp_metadata = """
model:
  name: "isolation_forest_fraud_detector"
  version: "1.0.0"
  type: "unsupervised_anomaly_detection"
  tier: "tier_2"
  
training:
  features: ["amount_log", "duration", "customer_age"]
  contamination: 0.01
  risk_threshold: -0.5
  
monitoring:
  metrics: ["feature_drift", "risk_score_distribution"]
  alert_thresholds:
    feature_drift: ">5%"
    risk_score_change: ">10%"

validation:
  last_validated: "2023-11-15"
  validation_score: 0.87
"""

# Validate and save
mcp_path = Path("mcp/fraud_detector_mcp.yaml")
mcp_path.parent.mkdir(exist_ok=True)

with open(mcp_path, 'w') as f:
    f.write(mcp_metadata)

# Validate the MCP
validator = MCPValidator()
is_valid = validator.validate_structure(yaml.safe_load(mcp_metadata))

print(f"MCP validation {'passed' if is_valid else 'failed'}")
print(f"MCP saved to: {mcp_path}")

## Next Steps ##
1. Review the generated report: reports/fraud_detection_report.html
2. Examine risky transactions in risky_txns DataFrame
3. Update MCP as needed in mcp/fraud_detector_mcp.yaml
